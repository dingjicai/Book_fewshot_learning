{
 "cells": [
  {
   "cell_type": "markdown",
   "id": "2bf4a15c",
   "metadata": {},
   "source": [
    "## 装袋元评估器"
   ]
  },
  {
   "cell_type": "code",
   "execution_count": 1,
   "id": "93be82b4",
   "metadata": {
    "scrolled": true
   },
   "outputs": [],
   "source": [
    "from sklearn.svm import SVC\n",
    "from sklearn.ensemble import BaggingClassifier\n",
    "from sklearn.datasets import make_classification"
   ]
  },
  {
   "cell_type": "code",
   "execution_count": 2,
   "id": "bbec5156",
   "metadata": {},
   "outputs": [
    {
     "data": {
      "text/plain": [
       "array([0])"
      ]
     },
     "execution_count": 2,
     "metadata": {},
     "output_type": "execute_result"
    }
   ],
   "source": [
    "X, y = make_classification(n_samples=100, n_features=4,\n",
    "                            n_informative=2, n_redundant=0,\n",
    "                            random_state=420, shuffle=False)\n",
    "clf = BaggingClassifier(base_estimator=SVC(),\n",
    "                            n_estimators=10, random_state=420).fit(X, y)\n",
    "clf.predict([[0, 0, 0, 0]])"
   ]
  },
  {
   "cell_type": "markdown",
   "id": "b05b23ee",
   "metadata": {},
   "source": [
    "## 随机森林"
   ]
  },
  {
   "cell_type": "code",
   "execution_count": 3,
   "id": "44383d64",
   "metadata": {},
   "outputs": [],
   "source": [
    "from sklearn.datasets import make_blobs\n",
    "from sklearn.ensemble import RandomForestClassifier\n",
    "from sklearn.tree import DecisionTreeClassifier\n",
    "from sklearn.model_selection import cross_val_score"
   ]
  },
  {
   "cell_type": "code",
   "execution_count": 4,
   "id": "8d8252c7",
   "metadata": {},
   "outputs": [],
   "source": [
    "x, y = make_blobs(n_samples=10000, n_features=10, centers=50, random_state=420)"
   ]
  },
  {
   "cell_type": "code",
   "execution_count": 5,
   "id": "2713e8fa",
   "metadata": {},
   "outputs": [
    {
     "name": "stdout",
     "output_type": "stream",
     "text": [
      "0.9943\n"
     ]
    }
   ],
   "source": [
    "clf_Dtree = DecisionTreeClassifier(min_samples_split=2,random_state=0)\n",
    "scores_Dtree = cross_val_score(clf_Dtree, x, y)\n",
    "print(scores_Dtree.mean())"
   ]
  },
  {
   "cell_type": "code",
   "execution_count": 6,
   "id": "06d5ddeb",
   "metadata": {},
   "outputs": [
    {
     "name": "stdout",
     "output_type": "stream",
     "text": [
      "0.9998000000000001\n"
     ]
    }
   ],
   "source": [
    "clf_RF = RandomForestClassifier(n_estimators=10, min_samples_split=2, random_state=0)\n",
    "scores_RF = cross_val_score(clf_RF, x, y)\n",
    "print(scores_RF.mean())"
   ]
  },
  {
   "cell_type": "code",
   "execution_count": 7,
   "id": "9896fa64",
   "metadata": {},
   "outputs": [
    {
     "data": {
      "text/plain": [
       "[DecisionTreeClassifier(max_features='auto', random_state=209652396),\n",
       " DecisionTreeClassifier(max_features='auto', random_state=398764591),\n",
       " DecisionTreeClassifier(max_features='auto', random_state=924231285),\n",
       " DecisionTreeClassifier(max_features='auto', random_state=1478610112),\n",
       " DecisionTreeClassifier(max_features='auto', random_state=441365315),\n",
       " DecisionTreeClassifier(max_features='auto', random_state=1537364731),\n",
       " DecisionTreeClassifier(max_features='auto', random_state=192771779),\n",
       " DecisionTreeClassifier(max_features='auto', random_state=1491434855),\n",
       " DecisionTreeClassifier(max_features='auto', random_state=1819583497),\n",
       " DecisionTreeClassifier(max_features='auto', random_state=530702035)]"
      ]
     },
     "execution_count": 7,
     "metadata": {},
     "output_type": "execute_result"
    }
   ],
   "source": [
    "clf_RF.fit(x,y).estimators_"
   ]
  }
 ],
 "metadata": {
  "kernelspec": {
   "display_name": "Python 3 (ipykernel)",
   "language": "python",
   "name": "python3"
  },
  "language_info": {
   "codemirror_mode": {
    "name": "ipython",
    "version": 3
   },
   "file_extension": ".py",
   "mimetype": "text/x-python",
   "name": "python",
   "nbconvert_exporter": "python",
   "pygments_lexer": "ipython3",
   "version": "3.7.6"
  }
 },
 "nbformat": 4,
 "nbformat_minor": 5
}
