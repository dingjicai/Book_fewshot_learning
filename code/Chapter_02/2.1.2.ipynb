{
 "cells": [
  {
   "cell_type": "code",
   "execution_count": 1,
   "id": "839cefe6",
   "metadata": {},
   "outputs": [],
   "source": [
    "from sklearn.preprocessing import StandardScaler\n",
    "import numpy as np"
   ]
  },
  {
   "cell_type": "code",
   "execution_count": 2,
   "id": "4f54e984",
   "metadata": {},
   "outputs": [],
   "source": [
    "X_train = np.array([[ 2., 0.,  1.],\n",
    "                    [ 4.,  0.,  0.],\n",
    "                    [ 0.,  2., -2.],\n",
    "                    [ 2.,  2., -1.]])"
   ]
  },
  {
   "cell_type": "code",
   "execution_count": 3,
   "id": "14f4d424",
   "metadata": {},
   "outputs": [],
   "source": [
    "scaler = StandardScaler()\n",
    "scaler = scaler.fit(X_train)\n",
    "result = scaler.transform(X_train)"
   ]
  },
  {
   "cell_type": "code",
   "execution_count": 4,
   "id": "70208d40",
   "metadata": {
    "scrolled": true
   },
   "outputs": [
    {
     "data": {
      "text/plain": [
       "array([ 2. ,  1. , -0.5])"
      ]
     },
     "execution_count": 4,
     "metadata": {},
     "output_type": "execute_result"
    }
   ],
   "source": [
    "scaler.mean_"
   ]
  },
  {
   "cell_type": "code",
   "execution_count": 5,
   "id": "1933e44f",
   "metadata": {},
   "outputs": [
    {
     "data": {
      "text/plain": [
       "array([1.41421356, 1.        , 1.11803399])"
      ]
     },
     "execution_count": 5,
     "metadata": {},
     "output_type": "execute_result"
    }
   ],
   "source": [
    "scaler.scale_"
   ]
  },
  {
   "cell_type": "code",
   "execution_count": 6,
   "id": "5512d348",
   "metadata": {},
   "outputs": [
    {
     "data": {
      "text/plain": [
       "array([2.  , 1.  , 1.25])"
      ]
     },
     "execution_count": 6,
     "metadata": {},
     "output_type": "execute_result"
    }
   ],
   "source": [
    "scaler.var_"
   ]
  },
  {
   "cell_type": "code",
   "execution_count": 7,
   "id": "9ae48a14",
   "metadata": {},
   "outputs": [
    {
     "data": {
      "text/plain": [
       "array([[ 0.        , -1.        ,  1.34164079],\n",
       "       [ 1.41421356, -1.        ,  0.4472136 ],\n",
       "       [-1.41421356,  1.        , -1.34164079],\n",
       "       [ 0.        ,  1.        , -0.4472136 ]])"
      ]
     },
     "execution_count": 7,
     "metadata": {},
     "output_type": "execute_result"
    }
   ],
   "source": [
    "result"
   ]
  }
 ],
 "metadata": {
  "kernelspec": {
   "display_name": "Python 3 (ipykernel)",
   "language": "python",
   "name": "python3"
  },
  "language_info": {
   "codemirror_mode": {
    "name": "ipython",
    "version": 3
   },
   "file_extension": ".py",
   "mimetype": "text/x-python",
   "name": "python",
   "nbconvert_exporter": "python",
   "pygments_lexer": "ipython3",
   "version": "3.7.6"
  }
 },
 "nbformat": 4,
 "nbformat_minor": 5
}
