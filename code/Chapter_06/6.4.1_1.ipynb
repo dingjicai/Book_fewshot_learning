{
 "cells": [
  {
   "cell_type": "code",
   "execution_count": 1,
   "metadata": {},
   "outputs": [
    {
     "name": "stdout",
     "output_type": "stream",
     "text": [
      "[7 2 1 0 4 1 4 9 5 9]\n"
     ]
    }
   ],
   "source": [
    "import numpy as np\n",
    "from sklearn.neighbors import KNeighborsClassifier\n",
    "data = np.load('mnist.npz')\n",
    "train_x = data['x_train']\n",
    "train_x = train_x.reshape(-1,28*28)/255 \n",
    "train_y = data['y_train']\n",
    "\n",
    "test_x = data['x_test'][0:10, :, :]\n",
    "test_x = test_x.reshape(-1,28*28)/255 \n",
    "test_y = data['y_test'][0:10]\n",
    "print(test_y)"
   ]
  },
  {
   "cell_type": "code",
   "execution_count": 2,
   "metadata": {},
   "outputs": [
    {
     "data": {
      "text/plain": [
       "array([[ True,  True],\n",
       "       [False, False],\n",
       "       [False,  True],\n",
       "       [False, False],\n",
       "       [False, False],\n",
       "       [False,  True],\n",
       "       [False, False],\n",
       "       [ True,  True],\n",
       "       [False,  True],\n",
       "       [ True,  True]])"
      ]
     },
     "execution_count": 2,
     "metadata": {},
     "output_type": "execute_result"
    }
   ],
   "source": [
    "test_x = data['x_test'][0:10, :, :]\n",
    "test_x = test_x.reshape(-1,28*28)/255 \n",
    "test_y = data['y_test'][0:10]\n",
    "knn = KNeighborsClassifier()\n",
    "y_6 = (train_y>=7)\n",
    "y_odd = (train_y % 2 == 1)\n",
    "y_multilabel = np.c_[y_6, y_odd]\n",
    "knn.fit(train_x, y_multilabel)\n",
    "knn.predict(test_x)"
   ]
  }
 ],
 "metadata": {
  "kernelspec": {
   "display_name": "Python 3",
   "language": "python",
   "name": "python3"
  },
  "language_info": {
   "codemirror_mode": {
    "name": "ipython",
    "version": 3
   },
   "file_extension": ".py",
   "mimetype": "text/x-python",
   "name": "python",
   "nbconvert_exporter": "python",
   "pygments_lexer": "ipython3",
   "version": "3.7.6"
  },
  "toc": {
   "base_numbering": 1,
   "nav_menu": {},
   "number_sections": true,
   "sideBar": true,
   "skip_h1_title": false,
   "title_cell": "Table of Contents",
   "title_sidebar": "Contents",
   "toc_cell": false,
   "toc_position": {},
   "toc_section_display": true,
   "toc_window_display": false
  }
 },
 "nbformat": 4,
 "nbformat_minor": 5
}
