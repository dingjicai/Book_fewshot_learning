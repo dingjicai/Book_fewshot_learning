{
 "cells": [
  {
   "cell_type": "code",
   "execution_count": 1,
   "id": "2f1794a9",
   "metadata": {},
   "outputs": [],
   "source": [
    "import numpy as np\n",
    "from sklearn.preprocessing import MinMaxScaler\n",
    "from sklearn.svm import SVC"
   ]
  },
  {
   "cell_type": "code",
   "execution_count": 2,
   "id": "a7d6be43",
   "metadata": {},
   "outputs": [],
   "source": [
    "#加载数据并预处理\n",
    "data = np.load('mnist.npz')\n",
    "train_x = data['x_train'].astype(np.float32)\n",
    "train_y = data['y_train'].astype(np.int32)\n",
    "test_x = data['x_test'].astype(np.float32)\n",
    "test_y = data['y_test'].astype(np.int32)\n",
    "\n",
    "train_x = train_x.reshape(train_x.shape[0],-1)\n",
    "test_x = test_x.reshape(test_x.shape[0],-1)\n",
    "train_x = MinMaxScaler().fit_transform(train_x)\n",
    "test_x = MinMaxScaler().fit_transform(test_x)"
   ]
  },
  {
   "cell_type": "code",
   "execution_count": 3,
   "id": "065b8bbd",
   "metadata": {},
   "outputs": [
    {
     "data": {
      "text/plain": [
       "SVC()"
      ]
     },
     "execution_count": 3,
     "metadata": {},
     "output_type": "execute_result"
    }
   ],
   "source": [
    "#建立模型并训练\n",
    "svc = SVC()\n",
    "svc.fit(train_x, train_y)"
   ]
  },
  {
   "cell_type": "code",
   "execution_count": 4,
   "id": "3f624338",
   "metadata": {},
   "outputs": [
    {
     "data": {
      "text/plain": [
       "0.9793"
      ]
     },
     "execution_count": 4,
     "metadata": {},
     "output_type": "execute_result"
    }
   ],
   "source": [
    "#计算评分\n",
    "svc.score(test_x, test_y)"
   ]
  }
 ],
 "metadata": {
  "kernelspec": {
   "display_name": "Python 3 (ipykernel)",
   "language": "python",
   "name": "python3"
  },
  "language_info": {
   "codemirror_mode": {
    "name": "ipython",
    "version": 3
   },
   "file_extension": ".py",
   "mimetype": "text/x-python",
   "name": "python",
   "nbconvert_exporter": "python",
   "pygments_lexer": "ipython3",
   "version": "3.7.6"
  }
 },
 "nbformat": 4,
 "nbformat_minor": 5
}
